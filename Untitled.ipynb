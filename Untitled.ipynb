{
 "cells": [
  {
   "cell_type": "code",
   "execution_count": 1,
   "id": "28bab0ac",
   "metadata": {},
   "outputs": [
    {
     "name": "stdout",
     "output_type": "stream",
     "text": [
      "gym-gmazes: \n",
      "|    gym version and path: 0.23.1 ['/Users/chenu/opt/anaconda3/envs/xpag_env/lib/python3.9/site-packages/gym']\n",
      "|    REGISTERING GMazeDubins-v0 from /Users/chenu/Desktop/PhD/github/gym-gmazes/gym_gmazes\n",
      "|    REGISTERING GMazeGoalDubins-v0 from /Users/chenu/Desktop/PhD/github/gym-gmazes/gym_gmazes\n"
     ]
    }
   ],
   "source": [
    "from gym_gmazes import *"
   ]
  },
  {
   "cell_type": "code",
   "execution_count": 4,
   "id": "84cfdc7e",
   "metadata": {},
   "outputs": [],
   "source": [
    "import gym\n",
    "import matplotlib.pyplot as plt"
   ]
  },
  {
   "cell_type": "code",
   "execution_count": 7,
   "id": "dceaa044",
   "metadata": {},
   "outputs": [],
   "source": [
    "env = gym.make(\"GMazeDubins-v0\")\n",
    "env.set_walls()"
   ]
  },
  {
   "cell_type": "code",
   "execution_count": 8,
   "id": "bb6fcc8a",
   "metadata": {},
   "outputs": [
    {
     "data": {
      "image/png": "[encoded data removed]",
      "text/plain": [
       "<Figure size 432x288 with 1 Axes>"
      ]
     },
     "metadata": {
      "needs_background": "light"
     },
     "output_type": "display_data"
    }
   ],
   "source": [
    "figure,ax = plt.subplots()\n",
    "\n",
    "env.plot(ax)"
   ]
  },
  {
   "cell_type": "code",
   "execution_count": null,
   "id": "31f88490",
   "metadata": {},
   "outputs": [],
   "source": []
  }
 ],
 "metadata": {
  "kernelspec": {
   "display_name": "Python 3 (ipykernel)",
   "language": "python",
   "name": "python3"
  },
  "language_info": {
   "codemirror_mode": {
    "name": "ipython",
    "version": 3
   },
   "file_extension": ".py",
   "mimetype": "text/x-python",
   "name": "python",
   "nbconvert_exporter": "python",
   "pygments_lexer": "ipython3",
   "version": "3.9.7"
  }
 },
 "nbformat": 4,
 "nbformat_minor": 5
}
